{
  "nbformat": 4,
  "nbformat_minor": 0,
  "metadata": {
    "colab": {
      "name": "연습.ipynb",
      "provenance": [],
      "mount_file_id": "1kdKeXVWLprf5W_YCTDDsih8N1yDHvdZy",
      "authorship_tag": "ABX9TyMKNhAHRy5jyzSpzXl1+EEh",
      "include_colab_link": true
    },
    "kernelspec": {
      "name": "python3",
      "display_name": "Python 3"
    },
    "language_info": {
      "name": "python"
    }
  },
  "cells": [
    {
      "cell_type": "markdown",
      "metadata": {
        "id": "view-in-github",
        "colab_type": "text"
      },
      "source": [
        "<a href=\"https://colab.research.google.com/github/Cherrryk/I-want-to-study-Data-Science/blob/master/%EC%97%B0%EC%8A%B5.ipynb\" target=\"_parent\"><img src=\"https://colab.research.google.com/assets/colab-badge.svg\" alt=\"Open In Colab\"/></a>"
      ]
    },
    {
      "cell_type": "markdown",
      "metadata": {
        "id": "uB5ALropCr_a"
      },
      "source": [
        "## 연습 Colab\n",
        " 1. Google drive 마운트 해보기"
      ]
    },
    {
      "cell_type": "code",
      "metadata": {
        "id": "Zgvv6flxCT1t"
      },
      "source": [
        "import os"
      ],
      "execution_count": 1,
      "outputs": []
    },
    {
      "cell_type": "code",
      "metadata": {
        "colab": {
          "base_uri": "https://localhost:8080/",
          "height": 35
        },
        "id": "vYjqIgNEC0S-",
        "outputId": "2f5de72b-539a-4705-8500-06d2e7b0e5db"
      },
      "source": [
        "os.getcwd()"
      ],
      "execution_count": 2,
      "outputs": [
        {
          "output_type": "execute_result",
          "data": {
            "application/vnd.google.colaboratory.intrinsic+json": {
              "type": "string"
            },
            "text/plain": [
              "'/content'"
            ]
          },
          "metadata": {},
          "execution_count": 2
        }
      ]
    },
    {
      "cell_type": "code",
      "metadata": {
        "id": "myZds-U-C5gC"
      },
      "source": [
        "os.chdir('/content/drive/MyDrive/2021-2학기/머신러닝')"
      ],
      "execution_count": 4,
      "outputs": []
    },
    {
      "cell_type": "code",
      "metadata": {
        "colab": {
          "base_uri": "https://localhost:8080/",
          "height": 35
        },
        "id": "r4wwfwIMEPC7",
        "outputId": "1719692f-d5a3-4c82-9402-208a6274ab3a"
      },
      "source": [
        "os.getcwd()"
      ],
      "execution_count": 5,
      "outputs": [
        {
          "output_type": "execute_result",
          "data": {
            "application/vnd.google.colaboratory.intrinsic+json": {
              "type": "string"
            },
            "text/plain": [
              "'/content/drive/MyDrive/2021-2학기/머신러닝'"
            ]
          },
          "metadata": {},
          "execution_count": 5
        }
      ]
    },
    {
      "cell_type": "code",
      "metadata": {
        "colab": {
          "base_uri": "https://localhost:8080/"
        },
        "id": "abzl6W-1EZ65",
        "outputId": "8e233428-e740-44ec-8d2a-75ee3e54e1d8"
      },
      "source": [
        "!git clone https://github.com/Cherrryk/handson-ml2-korean.git"
      ],
      "execution_count": 7,
      "outputs": [
        {
          "output_type": "stream",
          "name": "stdout",
          "text": [
            "Cloning into 'handson-ml2-korean'...\n",
            "remote: Enumerating objects: 3530, done.\u001b[K\n",
            "remote: Counting objects: 100% (44/44), done.\u001b[K\n",
            "remote: Compressing objects: 100% (40/40), done.\u001b[K\n",
            "remote: Total 3530 (delta 19), reused 10 (delta 4), pack-reused 3486\u001b[K\n",
            "Receiving objects: 100% (3530/3530), 398.96 MiB | 14.75 MiB/s, done.\n",
            "Resolving deltas: 100% (2129/2129), done.\n",
            "Checking out files: 100% (83/83), done.\n"
          ]
        }
      ]
    },
    {
      "cell_type": "code",
      "metadata": {
        "id": "IbepRzO0E1X3"
      },
      "source": [
        ""
      ],
      "execution_count": null,
      "outputs": []
    }
  ]
}